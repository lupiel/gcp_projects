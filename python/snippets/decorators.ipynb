{
  "nbformat": 4,
  "nbformat_minor": 0,
  "metadata": {
    "colab": {
      "provenance": [],
      "authorship_tag": "ABX9TyMuHdNWr+i+oj7uCiAsjzMd",
      "include_colab_link": true
    },
    "kernelspec": {
      "name": "python3",
      "display_name": "Python 3"
    },
    "language_info": {
      "name": "python"
    }
  },
  "cells": [
    {
      "cell_type": "markdown",
      "metadata": {
        "id": "view-in-github",
        "colab_type": "text"
      },
      "source": [
        "<a href=\"https://colab.research.google.com/github/lupiel/snippets_public/blob/main/colab/decorators.ipynb\" target=\"_parent\"><img src=\"https://colab.research.google.com/assets/colab-badge.svg\" alt=\"Open In Colab\"/></a>"
      ]
    },
    {
      "cell_type": "code",
      "execution_count": 16,
      "metadata": {
        "colab": {
          "base_uri": "https://localhost:8080/"
        },
        "id": "8E7FPOqyqtdl",
        "outputId": "e16072f7-68d0-4441-fc41-2bb7befe6ea0"
      },
      "outputs": [
        {
          "output_type": "stream",
          "name": "stdout",
          "text": [
            "Cloning into '2023-decorator'...\n",
            "remote: Enumerating objects: 17, done.\u001b[K\n",
            "remote: Counting objects: 100% (17/17), done.\u001b[K\n",
            "remote: Compressing objects: 100% (10/10), done.\u001b[K\n",
            "remote: Total 17 (delta 7), reused 11 (delta 6), pack-reused 0\u001b[K\n",
            "Unpacking objects: 100% (17/17), 4.82 KiB | 986.00 KiB/s, done.\n"
          ]
        }
      ],
      "source": [
        "!git clone https://github.com/ArjanCodes/2023-decorator.git"
      ]
    },
    {
      "cell_type": "code",
      "source": [
        "import functools\n",
        "import logging\n",
        "from math import sqrt\n",
        "from time import perf_counter\n",
        "from typing import Any, Callable\n",
        "\n",
        "logger = logging.getLogger(\"my_app\")\n",
        "logger.setLevel(logging.INFO)\n",
        "\n",
        "def with_logging(logger: logging.Logger):\n",
        "    def decorator(func: Callable[..., Any]) -> Callable[..., Any]:\n",
        "        @functools.wraps(func)\n",
        "        def wrapper(*args: Any, **kwargs: Any) -> Any:\n",
        "            logger.info(f\"Calling {func.__name__}\")\n",
        "            value = func(*args, **kwargs)\n",
        "            logger.info(f\"Finished {func.__name__}\")\n",
        "            return value\n",
        "\n",
        "        return wrapper\n",
        "\n",
        "    return decorator\n",
        "\n",
        "def with_timing(logger: logging.Logger):\n",
        "    def decorator(func: Callable[..., Any]) -> Callable[..., Any]:\n",
        "        @functools.wraps(func)\n",
        "        def wrapper(*args: Any, **kwargs: Any) -> Any:\n",
        "            start_time = perf_counter()\n",
        "            value = func(*args, **kwargs)\n",
        "            end_time = perf_counter()\n",
        "            run_time = end_time - start_time\n",
        "            logger.info(f\"Execution of {func.__name__} took {run_time:.2f} seconds.\")\n",
        "            return value\n",
        "\n",
        "        return wrapper\n",
        "    return decorator\n",
        "\n",
        "\n",
        "def is_prime(number: int) -> bool:\n",
        "    if number < 2:\n",
        "        return False\n",
        "    for element in range(2, int(sqrt(number)) + 1):\n",
        "        if number % element == 0:\n",
        "            return False\n",
        "    return True\n",
        "\n",
        "\n",
        "with_default_logging = functools.partial(with_logging, logger=logger)\n",
        "with_default_timing = functools.partial(with_timing, logger=logger)\n",
        "\n",
        "\n",
        "@with_default_logging()\n",
        "@with_default_timing()\n",
        "def count_prime_numbers(upper_bound: int) -> int:\n",
        "    count = 0\n",
        "    for number in range(upper_bound):\n",
        "        if is_prime(number):\n",
        "            count += 1\n",
        "    return count\n",
        "\n",
        "\n",
        "def main() -> None:\n",
        "    logging.basicConfig(level=logging.INFO)\n",
        "    count_prime_numbers(50000)"
      ],
      "metadata": {
        "id": "U2_pcsdQqxiZ"
      },
      "execution_count": 19,
      "outputs": []
    },
    {
      "cell_type": "code",
      "source": [
        "main()"
      ],
      "metadata": {
        "colab": {
          "base_uri": "https://localhost:8080/"
        },
        "id": "shrjOqN3rGRp",
        "outputId": "7f2cba8b-8e22-404e-f3ca-3c0b40d33aab"
      },
      "execution_count": 21,
      "outputs": [
        {
          "output_type": "stream",
          "name": "stderr",
          "text": [
            "INFO:my_app:Calling count_prime_numbers\n",
            "INFO:my_app:Execution of count_prime_numbers took 0.08 seconds.\n",
            "INFO:my_app:Finished count_prime_numbers\n"
          ]
        }
      ]
    },
    {
      "cell_type": "code",
      "source": [],
      "metadata": {
        "id": "_BONkvN86N4Y"
      },
      "execution_count": null,
      "outputs": []
    }
  ]
}